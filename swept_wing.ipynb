{
 "cells": [
  {
   "cell_type": "markdown",
   "id": "1d093c02-0471-483a-84c7-32614d461f61",
   "metadata": {},
   "source": [
    "# Transonic shock buffet on a swept wing"
   ]
  },
  {
   "cell_type": "code",
   "execution_count": null,
   "id": "d80b3754-276c-486a-a13f-4bc2a57fdcce",
   "metadata": {},
   "outputs": [],
   "source": [
    "from os.path import join\n",
    "from os import makedirs\n",
    "from collections import defaultdict\n",
    "from copy import deepcopy\n",
    "from math import sqrt\n",
    "import torch as pt\n",
    "import numpy as np\n",
    "from pandas import read_csv\n",
    "from scipy.signal import welch\n",
    "import matplotlib.pyplot as plt\n",
    "from matplotlib.animation import FuncAnimation\n",
    "from flowtorch.analysis import SVD, OptDMD, HOOptDMD\n",
    "from pydmd import BOPDMD\n",
    "from notebook_utils import set_seed\n",
    "\n",
    "data_path = \"data\"\n",
    "results_path = join(\"results\", \"swept_wing\")\n",
    "makedirs(results_path, exist_ok=True)\n",
    "plt.rcParams[\"figure.dpi\"] = 160\n",
    "plt.rcParams[\"text.usetex\"] = True\n",
    "pt.set_default_dtype(pt.float64)"
   ]
  },
  {
   "cell_type": "markdown",
   "id": "ee502a8f-5c8d-4418-b99d-eec209322924",
   "metadata": {},
   "source": [
    "## Preliminary processing and analysis"
   ]
  },
  {
   "cell_type": "code",
   "execution_count": null,
   "id": "d42159a6-3234-4e10-9254-08bdcec956a1",
   "metadata": {},
   "outputs": [],
   "source": [
    "def crop_mask(mask: pt.Tensor, left: int=20, right: int=10, up: int=15, down: int=15) -> pt.Tensor:\n",
    "    mask[:left, :] = 0\n",
    "    mask[-right:, :] = 0\n",
    "    mask[:, :up] = 0\n",
    "    mask[:, -down:] = 0\n",
    "    return mask"
   ]
  },
  {
   "cell_type": "code",
   "execution_count": null,
   "id": "b181dbd1-4f95-48ce-8203-4d0be7c55c7a",
   "metadata": {},
   "outputs": [],
   "source": [
    "cp_raw = pt.load(join(data_path, \"wing_ipsp_ma084_alpha4_cp.pt\"))\n",
    "mask = crop_mask(pt.load(join(data_path, \"wing_ipsp_ma084_alpha4_mask.pt\")))"
   ]
  },
  {
   "cell_type": "code",
   "execution_count": null,
   "id": "5f40e728-fbcb-404f-8a00-8e5b161f3a9f",
   "metadata": {},
   "outputs": [],
   "source": [
    "cp_raw.shape"
   ]
  },
  {
   "cell_type": "code",
   "execution_count": null,
   "id": "45b72a84-8750-49bb-878c-6dbfc7aef011",
   "metadata": {},
   "outputs": [],
   "source": [
    "data = {\n",
    "    \"cp\": cp_raw*mask.unsqueeze(-1),\n",
    "    \"mask\": mask,\n",
    "    \"x\": pt.load(join(data_path, \"wing_ipsp_ma084_alpha4_x.pt\")),\n",
    "    \"y\": pt.load(join(data_path, \"wing_ipsp_ma084_alpha4_y.pt\"))\n",
    "}\n",
    "data.keys()"
   ]
  },
  {
   "cell_type": "code",
   "execution_count": null,
   "id": "12ca2b17-7cbd-471d-99a3-8619bd941d8a",
   "metadata": {},
   "outputs": [],
   "source": [
    "dt = 1.0 / 2000.5\n",
    "CHORD = 0.1965\n",
    "U_INF = 215.0"
   ]
  },
  {
   "cell_type": "code",
   "execution_count": null,
   "id": "4e853e8c-7fa2-4750-a42f-e5f824984d32",
   "metadata": {},
   "outputs": [],
   "source": [
    "fb = 0.4*U_INF/CHORD\n",
    "1.0/fb/dt, 1000*dt*fb, fb"
   ]
  },
  {
   "cell_type": "code",
   "execution_count": null,
   "id": "16233591-6d57-4069-b2b6-613164c9cd67",
   "metadata": {},
   "outputs": [],
   "source": [
    "dm = data[\"cp\"].clamp(-1.5, 0.5).flatten(0, 1)[:, 500:1500].type(pt.float64)\n",
    "dm_mean = dm.mean(dim=1)\n",
    "dm -= dm_mean.unsqueeze(-1)"
   ]
  },
  {
   "cell_type": "code",
   "execution_count": null,
   "id": "70be0d95-cb63-4e10-9b06-f0e94ca46392",
   "metadata": {},
   "outputs": [],
   "source": [
    "cp_std = dm.std(dim=1).reshape(data[\"x\"].shape)\n",
    "x_norm = (data[\"x\"] - data[\"x\"].min()) / (data[\"x\"].max() - data[\"x\"].min())\n",
    "y_norm = (data[\"y\"] - data[\"y\"].min()) / (data[\"y\"].max() - data[\"y\"].min())"
   ]
  },
  {
   "cell_type": "code",
   "execution_count": null,
   "id": "26f3f78f-e0ca-414e-bbab-67981f1a0d7e",
   "metadata": {},
   "outputs": [],
   "source": [
    "frame = pt.zeros_like(x_norm)\n",
    "frame[0, :] = 1.0\n",
    "frame[-1:,:] = 1.0\n",
    "frame[:, 0] = 1.0\n",
    "frame[:, -1:] = 1.0"
   ]
  },
  {
   "cell_type": "code",
   "execution_count": null,
   "id": "0af52b48-f201-4bdc-91e1-00bc738ed5de",
   "metadata": {},
   "outputs": [],
   "source": [
    "fig, (ax1, ax2) = plt.subplots(1, 2, figsize=(5, 2.5), sharex=True, sharey=True)\n",
    "\n",
    "dm_norm = (dm_mean - dm_mean.min()) / (dm_mean.max() - dm_mean.min())\n",
    "dm_std = dm.std(dim=1)\n",
    "std_norm = (dm_std - dm_std.min()) / (dm_std.max() - dm_std.min())\n",
    "ax1.contourf(x_norm, y_norm, dm_norm.reshape(x_norm.shape), cmap=\"jet\", levels=120)\n",
    "cont = ax2.contourf(x_norm, y_norm, std_norm.reshape(x_norm.shape), cmap=\"jet\", levels=120)\n",
    "ax1.contour(x_norm, y_norm, frame, levels=[0.99], cmap=\"binary\", vmin=0.0, vmax=1.0, linewidths=1.0)\n",
    "ax2.contour(x_norm, y_norm, frame, levels=[0.99], cmap=\"binary\", vmin=0.0, vmax=1.0, linewidths=1.0)\n",
    "x_probe = x_norm[335:340, 55:60].mean().item()\n",
    "y_probe = y_norm[335:340, 55:60].mean().item()\n",
    "ax2.scatter([x_probe], [y_probe], marker=\"o\", s=20, facecolor=\"none\", edgecolor=\"C2\", lw=2)\n",
    "ax2.annotate(\"probe\", xy=(x_probe, y_probe), xytext=(0.1, y_probe), arrowprops=dict(arrowstyle=\"->\", color=\"C2\"), xycoords=\"axes fraction\", zorder=8)\n",
    "plt.colorbar(cont, ax=(ax1, ax2))\n",
    "fig.supxlabel(r\"$\\tilde{x}$\", y=-0.05)\n",
    "fig.supylabel(r\"$\\tilde{y}$\")\n",
    "ax1.set_title(r\"$\\mathrm{mean}(c_p)$\")\n",
    "ax2.set_title(r\"$\\mathrm{std}(c_p)$\")\n",
    "plt.savefig(join(results_path, \"cp_mean_std.png\"), bbox_inches=\"tight\")"
   ]
  },
  {
   "cell_type": "code",
   "execution_count": null,
   "id": "6a017382-74bc-4efb-953e-c1e9fcbc8951",
   "metadata": {},
   "outputs": [],
   "source": [
    "dyn_data = read_csv(join(data_path, \"wing_sensors_ma084_alpha4.csv\"))\n",
    "dyn_data.head()"
   ]
  },
  {
   "cell_type": "code",
   "execution_count": null,
   "id": "67896706-1311-45dc-8305-8d60d0b6c4ad",
   "metadata": {},
   "outputs": [],
   "source": [
    "def extract_ipsp_window(ipsp_busy: np.ndarray, time: np.ndarray) -> tuple:\n",
    "    active = ipsp_busy > 1.0\n",
    "    t_start = time[active][0]\n",
    "    return t_start, active\n",
    "t_start, include = extract_ipsp_window(dyn_data[\"IPSP_Busy\"].values, dyn_data[\"Time\"].values)"
   ]
  },
  {
   "cell_type": "code",
   "execution_count": null,
   "id": "303627dd-ae1e-4089-b67f-9822e61d00a8",
   "metadata": {},
   "outputs": [],
   "source": [
    "t = dyn_data[\"Time\"].values[include] - t_start\n",
    "# probe at (1020.515, -203.283)\n",
    "p0 = dyn_data[\"KUP10402\"].values[include]\n",
    "# probe at (1061.890, -367.473)\n",
    "p1 = dyn_data[\"KUP10803\"].values[include]\n",
    "# probe at (1125.556, -500.388)\n",
    "p2 = dyn_data[\"KUP11803\"].values[include]\n",
    "# acceleration wing tip\n",
    "acc = dyn_data[\"Acc_Stbd\"].values[include]"
   ]
  },
  {
   "cell_type": "code",
   "execution_count": null,
   "id": "d43c33ea-d0e8-44ee-9763-5db0be259c8c",
   "metadata": {},
   "outputs": [],
   "source": [
    "ipsp_probe = data[\"cp\"][335:340, 55:60, :].mean(dim=(0, 1)).numpy()"
   ]
  },
  {
   "cell_type": "code",
   "execution_count": null,
   "id": "bb5dbcc9-4b12-4330-8547-9ff24ce56e23",
   "metadata": {},
   "outputs": [],
   "source": [
    "dtp = t[1] - t[0]\n",
    "n_samples = len(t)\n",
    "f0, a0 = welch(p0-p0.mean(), 1.0/dtp, nperseg=int(n_samples/5), nfft=n_samples*2)\n",
    "f1, a1 = welch(p1-p1.mean(), 1.0/dtp, nperseg=int(n_samples/5), nfft=n_samples*2)\n",
    "f2, a2 = welch(p2-p2.mean(), 1.0/dtp, nperseg=int(n_samples/5), nfft=n_samples*2)\n",
    "fac, aac = welch(acc-acc.mean(), 1.0/dtp, nperseg=int(n_samples/5), nfft=n_samples*2)\n",
    "f_ipsp, a_ipsp = welch(ipsp_probe-ipsp_probe.mean(), 2000.5, nperseg=int(len(ipsp_probe)/5), nfft=2*len(ipsp_probe))"
   ]
  },
  {
   "cell_type": "code",
   "execution_count": null,
   "id": "e5ec6c5f-ad64-4dfd-91c8-35ec91e77760",
   "metadata": {},
   "outputs": [],
   "source": [
    "fig, ax = plt.subplots(figsize=(6, 2))\n",
    "#ax.plot(f0*CHORD/U_INF, a0/a0.max(), ls=\":\", lw=1, label=r\"$p_0$\")\n",
    "ax.plot(f1*CHORD/U_INF, a1/a1.max(), ls=\"-\", lw=1, label=r\"$p_1$\")\n",
    "#ax.plot(f2*CHORD/U_INF, a2/a2.max(), ls=\"-.\", lw=1, label=r\"$p_2$\")\n",
    "ax.plot(fac*CHORD/U_INF, aac/aac.max(), ls=\"--\", lw=1, label=r\"$a_z$\")\n",
    "ax.plot(f_ipsp*CHORD/U_INF, a_ipsp/a_ipsp.max(), ls=\"-\", lw=1, label=r\"$IPSP$\")\n",
    "ax.set_xscale(\"log\")\n",
    "ax.set_yscale(\"log\")\n",
    "ax.set_xlim(1e-2, 1.0)\n",
    "ax.set_ylim(1e-3)\n",
    "ax.set_xlabel(r\"$S_r$\")\n",
    "ax.set_ylabel(\"PSD\")\n",
    "ax.legend(ncol=4)\n",
    "ax.grid(ls=\"--\")\n",
    "plt.show()"
   ]
  },
  {
   "cell_type": "markdown",
   "id": "a3c7b484-8e40-4fd4-aff5-8c89e044c228",
   "metadata": {},
   "source": [
    "## DMD analysis"
   ]
  },
  {
   "cell_type": "code",
   "execution_count": null,
   "id": "90396939-04a7-48ab-80b4-6cfd557792a5",
   "metadata": {},
   "outputs": [],
   "source": [
    "svd = SVD(dm)\n",
    "print(svd)"
   ]
  },
  {
   "cell_type": "code",
   "execution_count": null,
   "id": "e5850581-b7ef-4e23-a474-f22a89b8acbf",
   "metadata": {},
   "outputs": [],
   "source": [
    "dm_pro = svd.U.T @ dm"
   ]
  },
  {
   "cell_type": "markdown",
   "id": "bc75ebfd-080c-4599-bd16-9df58e6a3d8a",
   "metadata": {},
   "source": [
    "### Comparison of exact and optimized DMD\n",
    "\n",
    "Only the first 750 snapshots are used to fit the operator. The reconstruction loss is computed on all snapshots."
   ]
  },
  {
   "cell_type": "code",
   "execution_count": null,
   "id": "3080e7c8-9567-4ab7-8381-418dcf336740",
   "metadata": {},
   "outputs": [],
   "source": [
    "set_seed(0)\n",
    "optDMD = HOOptDMD(dm, dt, rank_dr=svd.opt_rank, rank=svd.opt_rank)\n",
    "optDMD.train(batch_size=32, stopping_options={\"checkpoint\" : \"/tmp/best_model.pt\", \"patience\" : 100})"
   ]
  },
  {
   "cell_type": "code",
   "execution_count": null,
   "id": "d205259b-9008-4d1d-878c-1d5ec421a9a9",
   "metadata": {},
   "outputs": [],
   "source": [
    "fig, ax = plt.subplots(figsize=(6, 3))\n",
    "e = range(len(optDMD.log[\"train_loss\"]))\n",
    "ax.plot(e, optDMD.log[\"train_loss\"], c=f\"C0\", ls=\"-\", label=\"training\")\n",
    "ax.plot(e, optDMD.log[\"val_loss\"], c=f\"C1\", ls=\"--\", label=\"validation\")\n",
    "ax.set_xlabel(r\"$e$\")\n",
    "ax.set_ylabel(r\"$L_2$\")\n",
    "ax.legend(ncol=2)\n",
    "e_min_loss = pt.tensor(optDMD.log[\"val_loss\"]).argmin()\n",
    "ax.axvline(e_min_loss, ls=\":\", c=\"k\")\n",
    "ax.text(e_min_loss-4, 1.15, \"checkpoint\", rotation=90)\n",
    "ax.set_xlim(0, list(e)[-1])\n",
    "plt.show()"
   ]
  },
  {
   "cell_type": "code",
   "execution_count": null,
   "id": "8989bf56-a016-473c-86b1-b38acd9f6766",
   "metadata": {},
   "outputs": [],
   "source": [
    "times = pt.arange(0.0, 1000*dt, dt)"
   ]
  },
  {
   "cell_type": "code",
   "execution_count": null,
   "id": "993ac6ec-7f5e-4f18-afbf-f48ec1ba23c9",
   "metadata": {},
   "outputs": [],
   "source": [
    "bdmd = BOPDMD(svd_rank=svd.opt_rank, num_trials=0, eig_constraints={\"conjugate_pairs\"},\n",
    "                 varpro_opts_dict={\"verbose\": True, \"use_fulljac\" : True})\n",
    "bdmd.fit(dm[:, :750].numpy(), times[:750].numpy())"
   ]
  },
  {
   "cell_type": "code",
   "execution_count": null,
   "id": "3c30f525-d833-45f5-802b-ea731b0a4188",
   "metadata": {},
   "outputs": [],
   "source": [
    "dmr = svd.U @ pt.diag(svd.s) @ svd.V.T"
   ]
  },
  {
   "cell_type": "code",
   "execution_count": null,
   "id": "56d9fb98-3a30-46da-937d-38cbbdd171eb",
   "metadata": {},
   "outputs": [],
   "source": [
    "eigvals = pt.exp(pt.from_numpy(bdmd.eigs)*dt)\n",
    "rec = pt.from_numpy(bdmd.modes) @ (pt.linalg.vander(eigvals, N=dm.size(1)) * pt.from_numpy(bdmd.amplitudes).unsqueeze(-1))\n",
    "berr = (dmr - rec).norm() / dmr.norm()"
   ]
  },
  {
   "cell_type": "code",
   "execution_count": null,
   "id": "9a916e03-b149-4401-adf0-9316ba4522c6",
   "metadata": {},
   "outputs": [],
   "source": [
    "rec = optDMD.modes @ (pt.linalg.vander(optDMD.eigvals, N=dm.size(1)) * optDMD.amplitude.unsqueeze(-1))\n",
    "err = (dmr - rec).real.norm() / dmr.norm()"
   ]
  },
  {
   "cell_type": "code",
   "execution_count": null,
   "id": "f775a0d3-a082-4df6-9e7c-a64180b06ae5",
   "metadata": {},
   "outputs": [],
   "source": [
    "berr, err"
   ]
  },
  {
   "cell_type": "code",
   "execution_count": null,
   "id": "5dd5901a-0884-4cc4-898d-ceb1b4c128dd",
   "metadata": {},
   "outputs": [],
   "source": [
    "fig, ax = plt.subplots(figsize=(6, 6))\n",
    "\n",
    "ax.add_patch(plt.Circle((0.0, 0.0), radius=1.0, color=\"k\", alpha=0.2, ec=\"k\", lw=2, ls=\"--\"))\n",
    "ax.scatter(optDMD.dmd_init.eigvals.real, optDMD.dmd_init.eigvals.imag, marker=\"x\", c=\"C0\", label=\"exact DMD\")\n",
    "bev = pt.exp(pt.from_numpy(bdmd.eigs)*dt)\n",
    "ax.scatter(optDMD.eigvals.real, optDMD.eigvals.imag, marker=\"+\", s=50, c=\"C2\", label=\"ADAM, POD\", zorder=7)\n",
    "ax.scatter(bev.real, bev.imag, marker=\"*\", c=\"C3\", label=\"VarPro\")\n",
    "ax.set_aspect(\"equal\")\n",
    "ax.set_ylim(0)\n",
    "ax.legend()\n",
    "ax.set_xlabel(r\"$\\Re(\\lambda)$\")\n",
    "ax.set_ylabel(r\"$\\Im(\\lambda)$\")\n",
    "plt.savefig(join(results_path, \"eigval_comparison.pdf\"), bbox_inches=\"tight\")"
   ]
  },
  {
   "cell_type": "markdown",
   "id": "977fe164-fa25-4312-88eb-0eb8ed357902",
   "metadata": {},
   "source": [
    "### Optimized DMD with sparsity promotion"
   ]
  },
  {
   "cell_type": "code",
   "execution_count": null,
   "id": "92b7da5e-76b2-4b30-9214-49dc455b03df",
   "metadata": {},
   "outputs": [],
   "source": [
    "sparsity = pt.arange(0.0, 0.105, 0.005)"
   ]
  },
  {
   "cell_type": "code",
   "execution_count": null,
   "id": "3cbabcb2-253a-497d-af6d-5c94bfb23d1d",
   "metadata": {},
   "outputs": [],
   "source": [
    "results = defaultdict(list)\n",
    "set_seed(0)\n",
    "for sp in sparsity:\n",
    "    def loss_func(labels, predictions, eigvecs, eigvals):\n",
    "        l2_loss = (labels - predictions).norm() / sqrt(labels.numel())\n",
    "        sparsity_loss = eigvecs.norm(dim=0).mean()\n",
    "        return l2_loss + sp*sparsity_loss\n",
    "    dmd = OptDMD(dm_pro, dt, rank=svd.opt_rank)\n",
    "    dmd.train(batch_size=32, loss_function=loss_func, stopping_options={\"checkpoint\" : \"/tmp/best_model.pt\", \"patience\" : 100})\n",
    "    dmd.load_state_dict(pt.load(\"/tmp/best_model.pt\"))\n",
    "    results[\"err\"].append(dmd.reconstruction_error.norm() / dm_pro[:, :-1].norm())\n",
    "    results[\"card\"].append((dmd.amplitude > 1e-2).sum().item())"
   ]
  },
  {
   "cell_type": "code",
   "execution_count": null,
   "id": "52e52041-c0de-4261-a323-3e1b043ff118",
   "metadata": {},
   "outputs": [],
   "source": [
    "pt.save(results, join(results_path, \"sparsity_influence.pt\"))"
   ]
  },
  {
   "cell_type": "code",
   "execution_count": null,
   "id": "f0fd3fbc-2d72-4289-b973-0ad3c449797e",
   "metadata": {},
   "outputs": [],
   "source": [
    "results = pt.load(join(results_path, \"sparsity_influence.pt\"))"
   ]
  },
  {
   "cell_type": "code",
   "execution_count": null,
   "id": "dab6227c-94b8-47a3-8642-629d29847b21",
   "metadata": {},
   "outputs": [],
   "source": [
    "fig, ax = plt.subplots(figsize=(6, 3))\n",
    "ax_err = ax.twinx()\n",
    "ax.plot(sparsity, results[\"card\"], marker=\"x\", c=\"k\")\n",
    "ax.set_xlim(0, 0.1)\n",
    "err = pt.tensor(results[\"err\"])\n",
    "err_norm = (err / err.min() - 1) * 100\n",
    "ax_err.plot(sparsity, err_norm, marker=\"+\", c=\"C3\")\n",
    "ax.set_xlabel(r\"$\\gamma_0$\")\n",
    "ax.set_ylabel(r\"$\\mathrm{card}(\\mathbf{b})$\")\n",
    "ax.set_ylim(0, 70)\n",
    "ax_err.set_ylabel(r\"$\\Pi_{\\mathrm{loss}}$ in $\\%$\")\n",
    "ax_err.spines[\"right\"].set_color(\"C3\")\n",
    "ax_err.tick_params(axis=\"y\", colors=\"C3\")\n",
    "ax_err.yaxis.label.set_color(\"C3\")\n",
    "plt.savefig(join(results_path, \"sparsity_effect.pdf\"), bbox_inches=\"tight\")"
   ]
  },
  {
   "cell_type": "code",
   "execution_count": null,
   "id": "49226ae2-4d2c-4e58-9b95-897f7a65f882",
   "metadata": {},
   "outputs": [],
   "source": [
    "set_seed(0)\n",
    "def loss_func(labels, predictions, eigvecs, eigvals):\n",
    "    l2_loss = (labels - predictions).norm() / sqrt(labels.numel())\n",
    "    sparsity_loss = eigvecs.norm(dim=0).mean()\n",
    "    return l2_loss + 0.03*sparsity_loss\n",
    "dmd = OptDMD(dm_pro, dt, rank=svd.opt_rank)\n",
    "dmd.train(batch_size=32, loss_function=loss_func, stopping_options={\"checkpoint\" : \"/tmp/best_model.pt\", \"patience\" : 120})\n",
    "dmd.load_state_dict(pt.load(\"/tmp/best_model.pt\"))"
   ]
  },
  {
   "cell_type": "code",
   "execution_count": null,
   "id": "593d90f1-6d3c-4c52-81bf-3c9189ac4f23",
   "metadata": {},
   "outputs": [],
   "source": [
    "fig, ax = plt.subplots(figsize=(6, 3))\n",
    "e = range(len(dmd.log[\"train_loss\"]))\n",
    "ax.plot(e, dmd.log[\"train_loss\"], c=f\"C0\", ls=\"-\", label=\"training\")\n",
    "ax.plot(e, dmd.log[\"val_loss\"], c=f\"C1\", ls=\"--\", label=\"validation\")\n",
    "ax.set_xlabel(r\"$e$\")\n",
    "ax.set_ylabel(r\"$L_2$\")\n",
    "ax.legend(ncol=2)\n",
    "e_min_loss = pt.tensor(dmd.log[\"val_loss\"]).argmin()\n",
    "ax.axvline(e_min_loss, ls=\":\", c=\"k\")\n",
    "ax.text(e_min_loss-12, 1.3, \"checkpoint\", rotation=90)\n",
    "ax.set_xlim(0, list(e)[-1])\n",
    "plt.show()"
   ]
  },
  {
   "cell_type": "code",
   "execution_count": null,
   "id": "c0a0e982-a34d-483d-b466-5a7dee5d6b88",
   "metadata": {},
   "outputs": [],
   "source": [
    "fig, (ax1, ax2, ax3) = plt.subplots(3, figsize=(6, 4), gridspec_kw={'height_ratios': [1, 1, 3]}, sharex=True)\n",
    "\n",
    "ax1.plot(f_ipsp*CHORD/U_INF, a_ipsp/a_ipsp.max(), ls=\"-\", lw=1, label=r\"$c_p$ probe\")\n",
    "ax1.set_yscale(\"log\")\n",
    "ax1.set_ylim(8e-2)\n",
    "ax1.grid(ls=\"--\")\n",
    "ax1.set_ylabel(\"PSD, $c_p$\")\n",
    "ax2.plot(fac*CHORD/U_INF, aac/aac.max(), ls=\"-\", lw=1, label=r\"$a_z$\")\n",
    "ax2.set_yscale(\"log\")\n",
    "ax2.set_ylim(1e-4)\n",
    "ax2.set_ylabel(\"PSD, $a_z$\")\n",
    "ax2.grid(ls=\"--\")\n",
    "\n",
    "f = dmd.frequency * CHORD/U_INF\n",
    "pos = f > 0.01\n",
    "imp = dmd.integral_contribution\n",
    "impr = imp[pos] / imp[pos].sum() * 100\n",
    "markerline, stemlines, baseline = ax3.stem(f[pos].numpy(), impr.numpy(), basefmt=\"none\", linefmt=f\"k-\", markerfmt=\"x\")\n",
    "plt.setp(stemlines, 'linewidth', 1)\n",
    "plt.setp(markerline, markersize=6)\n",
    "keep = impr > 1.0\n",
    "sorting = f[pos][keep].sort().indices\n",
    "for i, ind in enumerate(sorting):\n",
    "    f_i, i_i = f[pos][keep][ind], impr[keep][ind]\n",
    "    ax3.text(f_i+0.005, i_i*1.01, r\"${:d}$\".format(i), c=\"C3\")\n",
    "ax3.set_xlim(0, 0.6)\n",
    "ax3.set_xlabel(r\"$S_r$\")\n",
    "ax3.set_ylabel(r\"$I_{\\mathrm{rel}}$ in $\\%$\")\n",
    "ax3.grid(ls=\"--\")\n",
    "ax3.set_ylim(0, 50)\n",
    "ax3.set_xticks(pt.arange(0.0, 0.601, 0.05))\n",
    "plt.savefig(join(results_path, \"spectrum.pdf\"), bbox_inches=\"tight\")"
   ]
  },
  {
   "cell_type": "code",
   "execution_count": null,
   "id": "f769a5c8-0a79-42bb-b1ab-308e055779ab",
   "metadata": {},
   "outputs": [],
   "source": [
    "top_modes = dmd.modes[:, pos][:, keep][:, sorting]\n",
    "top_imp = imp[pos][keep][sorting]\n",
    "top_imp_rel = top_imp / top_imp.sum()\n",
    "top_f = f[pos][keep][sorting]"
   ]
  },
  {
   "cell_type": "code",
   "execution_count": null,
   "id": "ed770dd2-7284-4017-8aa4-90450576329f",
   "metadata": {},
   "outputs": [],
   "source": [
    "def add_mode(ax, mode, bounds = None, cmap=\"seismic\", scale=1.0):\n",
    "    if bounds is None:\n",
    "        vmin, vmax = mode.min(), mode.max()\n",
    "        vref = max(vmin.abs(), vmax.abs())*scale\n",
    "        vmin, vmax = -vref, vref\n",
    "    else:\n",
    "        vmin, vmax = bounds\n",
    "    levels = pt.linspace(vmin, vmax, 120)\n",
    "    ax.contourf(x_norm, y_norm, mode, cmap=cmap, vmin=vmin, vmax=vmax, levels=levels)\n",
    "    ax.contour(x_norm, y_norm, frame, levels=[0.99], cmap=\"binary\", vmin=0.0, vmax=1.0, linewidths=1.0)"
   ]
  },
  {
   "cell_type": "code",
   "execution_count": null,
   "id": "707c9701-1e3e-484f-a9b4-51694efd561d",
   "metadata": {},
   "outputs": [],
   "source": [
    "fig, axarr = plt.subplots(len(top_f), 4, figsize=(6, 2*len(top_f)), sharex=True, sharey=True)\n",
    "\n",
    "for i, (f_i, i_i) in enumerate(zip(top_f, top_imp_rel)):\n",
    "    mode = (svd.U.type(top_modes.dtype) @ top_modes[:, i]).reshape(data[\"x\"].shape)\n",
    "    add_mode(axarr[i, 0], mode.real)\n",
    "    add_mode(axarr[i, 1], mode.imag)\n",
    "    add_mode(axarr[i, 2], mode.abs())\n",
    "    angle = mode.angle()\n",
    "    angle_masked = pt.where(cp_std > 0.09, angle, pt.tensor(0))\n",
    "    add_mode(axarr[i, 3], angle_masked, (-np.pi, np.pi))\n",
    "    axarr[i, 0].set_ylabel(r\"$S_r={:2.2f}$, $I={:2.2f}$\".format(f_i.item(), i_i.item()*100))\n",
    "for ax in axarr.flatten():\n",
    "    ax.set_xticks([])\n",
    "    ax.set_yticks([])\n",
    "plt.show()"
   ]
  },
  {
   "cell_type": "code",
   "execution_count": null,
   "id": "fa409437-8ea4-494c-a9aa-f8312484866a",
   "metadata": {},
   "outputs": [],
   "source": [
    "vis = (4, 1)"
   ]
  },
  {
   "cell_type": "code",
   "execution_count": null,
   "id": "c0ee97c7-21cd-4f0e-926b-c76547d7437c",
   "metadata": {},
   "outputs": [],
   "source": [
    "fig, axarr = plt.subplots(2, 4, figsize=(6, 4), sharex=True, sharey=True)\n",
    "\n",
    "for i, ii in enumerate(vis):\n",
    "    mode = (svd.U.type(top_modes.dtype) @ top_modes[:, ii]).reshape(x_norm.shape)\n",
    "    add_mode(axarr[i, 0], mode.real)\n",
    "    add_mode(axarr[i, 1], mode.imag)\n",
    "    add_mode(axarr[i, 2], mode.abs())\n",
    "    angle = mode.angle()\n",
    "    angle_masked = pt.where(cp_std > 0.07, angle, pt.tensor(0))\n",
    "    add_mode(axarr[i, 3], angle_masked, (-np.pi, np.pi))\n",
    "    axarr[i, -1].text(1.1, 0.5, r\"$S_r={:2.2f}$, $I_{:s}={:2.2f}\\%$\".format(top_f[ii].item(), \"\\mathrm{rel}\", top_imp_rel[ii].item()*100), rotation=-90, va=\"center\")\n",
    "axarr[0, 0].invert_yaxis()\n",
    "axarr[0, 0].set_title(r\"$\\Re (\\mathbf{\\varphi})$\")\n",
    "axarr[0, 1].set_title(r\"$\\Im (\\mathbf{\\varphi})$\")\n",
    "axarr[0, 2].set_title(r\"$|\\mathbf{\\varphi}|$\")\n",
    "axarr[0, 3].set_title(r\"$\\mathrm{tan}^{-1}( \\Im (\\mathbf{\\varphi})/ \\Re (\\mathbf{\\varphi}) )$\")\n",
    "fig.supxlabel(r\"$\\tilde{x}$\")\n",
    "fig.supylabel(r\"$\\tilde{y}$\")\n",
    "axarr[1, 2].annotate(\"\", xy=(0.55, 0.76), xytext=(0.88, 0.65), arrowprops=dict(arrowstyle=\"<->\"), xycoords=\"axes fraction\", zorder=8)\n",
    "axarr[1, 2].annotate(\"\", xy=(0.45, 0.2), xytext=(0.55, 0.5), arrowprops=dict(arrowstyle=\"->\"), xycoords=\"axes fraction\", zorder=8)\n",
    "axarr[0, 2].annotate(\"\", xy=(0.88, 0.85), xytext=(0.72, 0.65), arrowprops=dict(arrowstyle=\"->\"), xycoords=\"axes fraction\", zorder=8)\n",
    "plt.savefig(join(results_path, \"modes.png\"), bbox_inches=\"tight\")"
   ]
  },
  {
   "cell_type": "markdown",
   "id": "d34e7f4c-7fc6-4fc5-ab23-abaecc5d6e6a",
   "metadata": {},
   "source": [
    "## Propagation velocity"
   ]
  },
  {
   "cell_type": "code",
   "execution_count": null,
   "id": "5df09e51-9be3-4ec9-9627-9944f69cf556",
   "metadata": {},
   "outputs": [],
   "source": [
    "np_line_1 = 20\n",
    "line_1s = pt.stack((\n",
    "    pt.linspace(0.64, 0.47, np_line_1),\n",
    "    pt.linspace(0.4, 0.85, np_line_1),\n",
    ")).T\n",
    "np_line_2 = 20\n",
    "line_2s = pt.stack((\n",
    "    pt.linspace(0.9, 0.68, np_line_2),\n",
    "    pt.linspace(0.05, 0.35, np_line_2),\n",
    ")).T"
   ]
  },
  {
   "cell_type": "code",
   "execution_count": null,
   "id": "5f2953b8-40b0-42ec-885a-b0f6d6dc84c7",
   "metadata": {},
   "outputs": [],
   "source": [
    "fig, axarr = plt.subplots(1, 2, figsize=(3, 2), sharex=True, sharey=True)\n",
    "\n",
    "lines = [line_1s, line_2s]\n",
    "for i, ii in enumerate(vis):\n",
    "    mode = (svd.U.type(top_modes.dtype) @ top_modes[:, ii]).reshape(x_norm.shape)\n",
    "    add_mode(axarr[i], mode.abs())\n",
    "    line = lines[i]\n",
    "    axarr[i].plot(line[:, 0], line[:, 1], c=\"k\", ls=\":\")\n",
    "plt.show()"
   ]
  },
  {
   "cell_type": "code",
   "execution_count": null,
   "id": "24ae67eb-8fe3-4ba2-8edf-63986c895537",
   "metadata": {},
   "outputs": [],
   "source": [
    "angle_1 = (svd.U.type(top_modes.dtype) @ top_modes[:, vis[0]]).angle()\n",
    "angle_2 = (svd.U.type(top_modes.dtype) @ top_modes[:, vis[1]]).angle()"
   ]
  },
  {
   "cell_type": "code",
   "execution_count": null,
   "id": "cb29375a-9945-4a2c-9869-e2c2acb8d770",
   "metadata": {},
   "outputs": [],
   "source": [
    "angle_l1 = []\n",
    "for pi in range(line_1s.shape[0]):\n",
    "    closest = (pt.stack((x_norm.flatten(), y_norm.flatten()), dim=1) - line_1s[pi]).norm(dim=1).argmin()\n",
    "    angle_l1.append(angle_1[closest])\n",
    "angle_l1 = pt.stack(angle_l1)\n",
    "angle_l2 = []\n",
    "for pi in range(line_2s.shape[0]):\n",
    "    closest = (pt.stack((x_norm.flatten(), y_norm.flatten()), dim=1) - line_2s[pi]).norm(dim=1).argmin()\n",
    "    angle_l2.append(angle_2[closest])\n",
    "angle_l2 = pt.stack(angle_l2)"
   ]
  },
  {
   "cell_type": "code",
   "execution_count": null,
   "id": "60a81fa8-29e6-4c06-9820-5eaeb0e2e0d2",
   "metadata": {},
   "outputs": [],
   "source": [
    "line_1 = pt.zeros_like(line_1s)\n",
    "line_1[:, 0] = line_1s[:, 0] * (data[\"x\"].max() - data[\"x\"].min()) + data[\"x\"].min()\n",
    "line_1[:, 1] = line_1s[:, 1] * (data[\"y\"].max() - data[\"y\"].min()) + data[\"y\"].min()\n",
    "line_1 /= 1000\n",
    "line_2 = pt.zeros_like(line_2s)\n",
    "line_2[:, 0] = line_2s[:, 0] * (data[\"x\"].max() - data[\"x\"].min()) + data[\"x\"].min()\n",
    "line_2[:, 1] = line_2s[:, 1] * (data[\"y\"].max() - data[\"y\"].min()) + data[\"y\"].min()\n",
    "line_2 /= 1000"
   ]
  },
  {
   "cell_type": "code",
   "execution_count": null,
   "id": "488d0200-0202-4f93-9f07-94b1c09a0ff6",
   "metadata": {},
   "outputs": [],
   "source": [
    "fig, axarr = plt.subplots(1, 2, figsize=(6, 2), sharey=True, sharex=True)\n",
    "\n",
    "# line 1 - inboard waves\n",
    "ds_1 = (line_1 - line_1[0, :]).norm(dim=1)\n",
    "axarr[0].scatter(ds_1, angle_l1, marker=\"x\", c=\"k\", s=10)\n",
    "low_1, up_1 = 0.1, 0.25\n",
    "l1_range = pt.logical_and(ds_1 > low_1, ds_1 < up_1)\n",
    "dmp = pt.cat((angle_l1[l1_range].unsqueeze(-1), line_1[l1_range, 0].unsqueeze(-1)), dim=1).T\n",
    "dmp_mean = dmp.mean(dim=1)\n",
    "U, s, VH = pt.linalg.svd(dmp - dmp_mean.unsqueeze(-1), full_matrices=False)\n",
    "dphi_ds_1 = U[0, 0] / U[1, 0]\n",
    "u_rel_1 = 2*np.pi*top_f[vis[0]]*U_INF/CHORD / dphi_ds_1 / U_INF\n",
    "phi_1_rec = dmp_mean[0] + dphi_ds_1 * (line_1[l1_range, 0] - dmp_mean[1])\n",
    "axarr[0].plot(ds_1[l1_range], phi_1_rec, ls=\"--\", c=\"C0\", label=\"linear fit\")\n",
    "axarr[0].set_title(r\"$U_p=\" + f\"{u_rel_1:2.4f}\" + \"U_\\infty$\")\n",
    "\n",
    "# line 2 - pressure side towards trailing edge\n",
    "ds_2 = (line_2 - line_2[0, :]).norm(dim=1)\n",
    "axarr[1].scatter(ds_2, angle_l2, marker=\"x\", c=\"k\", s=10)\n",
    "low_2, up_2 = 0.0, 0.12\n",
    "l2_range = pt.logical_and(ds_2 > low_2, ds_2 < up_2)\n",
    "dmp = pt.cat((angle_l2[l2_range].unsqueeze(-1), line_2[l2_range, 0].unsqueeze(-1)), dim=1).T\n",
    "dmp_mean = dmp.mean(dim=1)\n",
    "U, s, VH = pt.linalg.svd(dmp - dmp_mean.unsqueeze(-1), full_matrices=False)\n",
    "dphi_ds_2 = U[0, 0] / U[1, 0]\n",
    "u_rel_2 = 2*np.pi*top_f[vis[1]]*U_INF/CHORD / dphi_ds_2 / U_INF\n",
    "phi_2_rec = dmp_mean[0] + dphi_ds_2 * (line_2[l2_range, 0] - dmp_mean[1])\n",
    "axarr[1].plot(ds_2[l2_range], phi_2_rec, ls=\"--\", c=\"C0\", label=\"linear fit\")\n",
    "axarr[1].set_title(r\"$U_p=\" + f\"{u_rel_2:2.4f}\" + \"U_\\infty$\")\n",
    "plt.show()"
   ]
  },
  {
   "cell_type": "code",
   "execution_count": null,
   "id": "58b0e30d-4223-472b-b4ac-3ca55458999d",
   "metadata": {},
   "outputs": [],
   "source": [
    "wave_length_1 = pt.abs(u_rel_1*U_INF/(top_f[vis[0]]*U_INF/CHORD))\n",
    "wave_length_2 = pt.abs(u_rel_2*U_INF/(top_f[vis[1]]*U_INF/CHORD))\n",
    "wave_length_1.item(), wave_length_2.item()"
   ]
  },
  {
   "cell_type": "code",
   "execution_count": null,
   "id": "735620cb-5519-4fa0-8985-633806707c2e",
   "metadata": {},
   "outputs": [],
   "source": [
    "wave_length_1.item() / CHORD, wave_length_2.item() / CHORD"
   ]
  },
  {
   "cell_type": "markdown",
   "id": "035ece8d-7442-4355-8ed7-754e120417ff",
   "metadata": {},
   "source": [
    "## Animation of selected modes"
   ]
  },
  {
   "cell_type": "code",
   "execution_count": null,
   "id": "666183dc-f2c9-4943-9882-c236dfc0f04b",
   "metadata": {},
   "outputs": [],
   "source": [
    "def animate_reconstruction(reconstruction, title, fps, n_frames):\n",
    "    fig, ax = plt.subplots(1, figsize=(2.5, 3))\n",
    "    #plt.subplots_adjust(bottom=0.0, top=1.0, left=0.05, right=0.95, wspace=-0.1)\n",
    "    vref = max(reconstruction.min().abs(), reconstruction.max().abs())\n",
    "    levels = pt.linspace(-vref, vref, 120)\n",
    "    conts = []\n",
    "    conts.append(ax.contourf(x_norm, y_norm, reconstruction[:, 0].reshape(x_norm.shape), levels=levels, vmin=-vref, vmax=vref, cmap=\"seismic\"))\n",
    "    ax.contour(x_norm, y_norm, frame, levels=[0.99], cmap=\"binary\", vmin=0.0, vmax=1.0, linewidths=1.0)\n",
    "    ax.set_axis_off()\n",
    "    ax.set_title(title)\n",
    "    for c in conts[0].collections:\n",
    "        c.set_edgecolor(\"face\")\n",
    "    def update(frame):\n",
    "        print(f\"\\rProcessing frame {frame}\", end=\"\")\n",
    "        for c in conts[0].collections:\n",
    "            c.remove()\n",
    "        conts[0] = ax.contourf(x_norm, y_norm, reconstruction[:, frame].reshape(x_norm.shape), levels=levels, vmin=-vref, vmax=vref, cmap=\"seismic\")\n",
    "        return conts\n",
    "    return FuncAnimation(fig, update, frames=n_frames, blit=False, interval=fps)"
   ]
  },
  {
   "cell_type": "code",
   "execution_count": null,
   "id": "34b9f1fc-6226-4d90-8eb6-8ffa1817c953",
   "metadata": {},
   "outputs": [],
   "source": [
    "top_k = dmd.top_modes(10, integral=True, f_min=0.005)"
   ]
  },
  {
   "cell_type": "code",
   "execution_count": null,
   "id": "1401abe1-525c-4532-b9b5-f6c25dc4c024",
   "metadata": {},
   "outputs": [],
   "source": [
    "sr = dmd.frequency * CHORD / U_INF\n",
    "im = dmd.integral_contribution / top_imp.sum() * 100\n",
    "dmd_ani = deepcopy(dmd)\n",
    "dmd_ani._eigvals = pt.nn.Parameter(dmd._eigvals / dmd._eigvals.abs())\n",
    "for i in top_k:\n",
    "    rec = dmd_ani.partial_reconstruction({i})\n",
    "    rec = svd.U @ rec\n",
    "    title = r\"$S_r={:2.2f}$, $I_{:s}={:2.2f}\\%$\".format(dmd.frequency[i]*CHORD/U_INF, \"{rel}\", im[i])\n",
    "    anim = animate_reconstruction(rec, title, 10, 50)\n",
    "    anim.save(join(results_path, f\"mode_{i}.mp4\"), fps=10, dpi=320, bitrate=1500)\n",
    "    plt.close()"
   ]
  },
  {
   "cell_type": "code",
   "execution_count": null,
   "id": "7098e3d5-e2ff-41a7-825d-c65aa5f653ea",
   "metadata": {},
   "outputs": [],
   "source": []
  }
 ],
 "metadata": {
  "kernelspec": {
   "display_name": "Python 3 (ipykernel)",
   "language": "python",
   "name": "python3"
  },
  "language_info": {
   "codemirror_mode": {
    "name": "ipython",
    "version": 3
   },
   "file_extension": ".py",
   "mimetype": "text/x-python",
   "name": "python",
   "nbconvert_exporter": "python",
   "pygments_lexer": "ipython3",
   "version": "3.10.12"
  }
 },
 "nbformat": 4,
 "nbformat_minor": 5
}
